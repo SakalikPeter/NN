{
 "metadata": {
  "language_info": {
   "codemirror_mode": {
    "name": "ipython",
    "version": 3
   },
   "file_extension": ".py",
   "mimetype": "text/x-python",
   "name": "python",
   "nbconvert_exporter": "python",
   "pygments_lexer": "ipython3",
   "version": "3.8.5"
  },
  "orig_nbformat": 2,
  "kernelspec": {
   "name": "python385jvsc74a57bd094f0a056bc008cfc815c619fcf070f422781e9c261eefde0e0f4c99575ac8c48",
   "display_name": "Python 3.8.5 64-bit ('nn': conda)"
  },
  "metadata": {
   "interpreter": {
    "hash": "653d3d18150f7592f14dec72a2bd0fc4c350ed4bcf8c20cf97b56f1cea215291"
   }
  }
 },
 "nbformat": 4,
 "nbformat_minor": 2,
 "cells": [
  {
   "cell_type": "code",
   "execution_count": 1,
   "metadata": {},
   "outputs": [],
   "source": [
    "import os\n",
    "import numpy as np\n",
    "import cv2\n",
    "import pandas as pd\n",
    "\n",
    "INPUT_PATH = \"data/pokemon\"\n",
    "OUTPUT_PATH = \"data/pokemon_upsampled\""
   ]
  },
  {
   "cell_type": "code",
   "execution_count": 2,
   "metadata": {
    "tags": []
   },
   "outputs": [
    {
     "output_type": "error",
     "ename": "AttributeError",
     "evalue": "'NoneType' object has no attribute 'shape'",
     "traceback": [
      "\u001b[1;31m---------------------------------------------------------------------------\u001b[0m",
      "\u001b[1;31mAttributeError\u001b[0m                            Traceback (most recent call last)",
      "\u001b[1;32m<ipython-input-2-31764a2bd349>\u001b[0m in \u001b[0;36m<module>\u001b[1;34m\u001b[0m\n\u001b[0;32m      5\u001b[0m \u001b[1;33m\u001b[0m\u001b[0m\n\u001b[0;32m      6\u001b[0m     \u001b[0mscale\u001b[0m \u001b[1;33m=\u001b[0m \u001b[1;36m1.75\u001b[0m \u001b[1;31m# percent of original size\u001b[0m\u001b[1;33m\u001b[0m\u001b[1;33m\u001b[0m\u001b[0m\n\u001b[1;32m----> 7\u001b[1;33m     \u001b[0mwidth\u001b[0m \u001b[1;33m=\u001b[0m \u001b[0mint\u001b[0m\u001b[1;33m(\u001b[0m\u001b[0mimg\u001b[0m\u001b[1;33m.\u001b[0m\u001b[0mshape\u001b[0m\u001b[1;33m[\u001b[0m\u001b[1;36m1\u001b[0m\u001b[1;33m]\u001b[0m \u001b[1;33m*\u001b[0m \u001b[0mscale\u001b[0m\u001b[1;33m)\u001b[0m\u001b[1;33m\u001b[0m\u001b[1;33m\u001b[0m\u001b[0m\n\u001b[0m\u001b[0;32m      8\u001b[0m     \u001b[0mheight\u001b[0m \u001b[1;33m=\u001b[0m \u001b[0mint\u001b[0m\u001b[1;33m(\u001b[0m\u001b[0mimg\u001b[0m\u001b[1;33m.\u001b[0m\u001b[0mshape\u001b[0m\u001b[1;33m[\u001b[0m\u001b[1;36m0\u001b[0m\u001b[1;33m]\u001b[0m \u001b[1;33m*\u001b[0m \u001b[0mscale\u001b[0m\u001b[1;33m)\u001b[0m\u001b[1;33m\u001b[0m\u001b[1;33m\u001b[0m\u001b[0m\n\u001b[0;32m      9\u001b[0m     \u001b[0mdim\u001b[0m \u001b[1;33m=\u001b[0m \u001b[1;33m(\u001b[0m\u001b[0mwidth\u001b[0m\u001b[1;33m,\u001b[0m \u001b[0mheight\u001b[0m\u001b[1;33m)\u001b[0m\u001b[1;33m\u001b[0m\u001b[1;33m\u001b[0m\u001b[0m\n",
      "\u001b[1;31mAttributeError\u001b[0m: 'NoneType' object has no attribute 'shape'"
     ]
    }
   ],
   "source": [
    "for name in os.listdir(INPUT_PATH):\n",
    "    img_path=f\"{INPUT_PATH}/{name}\"\n",
    "    img = cv2.imread(img_path)\n",
    "    orig_img_path = f\"{OUTPUT_PATH}/{name}\"\n",
    "    \n",
    "    scale = 1.75 # percent of original size\n",
    "    width = int(img.shape[1] * scale)\n",
    "    height = int(img.shape[0] * scale)\n",
    "    dim = (width, height)\n",
    "    new_img_path_resize = orig_img_path.replace(\".\",\"_s175.\")\n",
    "    new_img_resize = cv2.resize(img, dim, interpolation = cv2.INTER_AREA)\n",
    "    \n",
    "    new_img_flip_resize = cv2.flip(new_img_resize, 1)\n",
    "    new_img_path_flip_resize = orig_img_path.replace(\".\",\"_s175f.\")\n",
    "\n",
    "    new_img_flip = cv2.flip(img, 1)\n",
    "    new_img_path_flip = orig_img_path.replace(\".\",\"_f.\")\n",
    "\n",
    "    cv2.imwrite(new_img_path_flip_resize, new_img_flip_resize)\n",
    "    cv2.imwrite(new_img_path_flip, new_img_flip)\n",
    "    cv2.imwrite(new_img_path_resize, new_img_resize)\n",
    "    cv2.imwrite(orig_img_path, img)\n"
   ]
  },
  {
   "cell_type": "code",
   "execution_count": 3,
   "metadata": {},
   "outputs": [],
   "source": [
    "image_names = []\n",
    "for name in os.listdir(OUTPUT_PATH):\n",
    "    image_names.append(name)\n",
    "\n",
    "df = pd.DataFrame(image_names)\n",
    "\n",
    "df.to_csv(f'{OUTPUT_PATH}/image_names.csv', header=None, index=False)"
   ]
  },
  {
   "cell_type": "code",
   "execution_count": null,
   "metadata": {},
   "outputs": [],
   "source": []
  }
 ]
}