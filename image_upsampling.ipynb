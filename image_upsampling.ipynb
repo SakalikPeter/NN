{
 "metadata": {
  "language_info": {
   "codemirror_mode": {
    "name": "ipython",
    "version": 3
   },
   "file_extension": ".py",
   "mimetype": "text/x-python",
   "name": "python",
   "nbconvert_exporter": "python",
   "pygments_lexer": "ipython3",
   "version": "3.8.5"
  },
  "orig_nbformat": 2,
  "kernelspec": {
   "name": "python385jvsc74a57bd088eda6a44c4d38e97ebf254bdd1777ee9b572ffd61c883e85b22c06947056f80",
   "display_name": "Python 3.8.5 64-bit ('base': conda)"
  },
  "metadata": {
   "interpreter": {
    "hash": "653d3d18150f7592f14dec72a2bd0fc4c350ed4bcf8c20cf97b56f1cea215291"
   }
  }
 },
 "nbformat": 4,
 "nbformat_minor": 2,
 "cells": [
  {
   "cell_type": "code",
   "execution_count": 11,
   "metadata": {},
   "outputs": [],
   "source": [
    "import os\n",
    "import numpy as np\n",
    "import cv2 as cv\n",
    "\n",
    "INPUT_PATH = \"data/upsample_test\"\n",
    "OUTPUT_PATH = \"data/upsample_test_output\""
   ]
  },
  {
   "cell_type": "code",
   "execution_count": 21,
   "metadata": {
    "tags": []
   },
   "outputs": [],
   "source": [
    "for name in os.listdir(INPUT_PATH):\n",
    "    img_path=f\"{INPUT_PATH}/{name}\"\n",
    "    img = cv.imread(img_path)\n",
    "\n",
    "    orig_img_path = f\"{OUTPUT_PATH}/{name}\"\n",
    "    \n",
    "    scale = 0.60 # percent of original size\n",
    "    width = int(img.shape[1] * scale)\n",
    "    height = int(img.shape[0] * scale)\n",
    "    dim = (width, height)\n",
    "    new_img_path_resize = orig_img_path.replace(\".\",\"_s60.\")\n",
    "    new_img_resize = cv2.resize(img, dim, interpolation = cv2.INTER_AREA)\n",
    "    \n",
    "    new_img_flip = cv.flip(img, 1)\n",
    "    new_img_path_flip = orig_img_path.replace(\".\",\"_f.\")\n",
    "\n",
    "    cv2.imwrite(new_img_path_flip, new_img_flip)\n",
    "    cv2.imwrite(new_img_path_resize, new_img_resize)\n",
    "    cv2.imwrite(orig_img_path, img)\n"
   ]
  },
  {
   "cell_type": "code",
   "execution_count": null,
   "metadata": {},
   "outputs": [],
   "source": []
  }
 ]
}