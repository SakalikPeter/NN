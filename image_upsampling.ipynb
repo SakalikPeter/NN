{
 "metadata": {
  "language_info": {
   "codemirror_mode": {
    "name": "ipython",
    "version": 3
   },
   "file_extension": ".py",
   "mimetype": "text/x-python",
   "name": "python",
   "nbconvert_exporter": "python",
   "pygments_lexer": "ipython3",
   "version": "3.8.3"
  },
  "orig_nbformat": 2,
  "kernelspec": {
   "name": "python3",
   "display_name": "Python 3.8.3 64-bit ('tf-gpu': conda)",
   "metadata": {
    "interpreter": {
     "hash": "d1094f0bb89545194bbd4526b036b92b55cb1d7878e14527a6dcc225c0f74fde"
    }
   }
  },
  "metadata": {
   "interpreter": {
    "hash": "653d3d18150f7592f14dec72a2bd0fc4c350ed4bcf8c20cf97b56f1cea215291"
   }
  }
 },
 "nbformat": 4,
 "nbformat_minor": 2,
 "cells": [
  {
   "cell_type": "code",
   "execution_count": 1,
   "metadata": {},
   "outputs": [],
   "source": [
    "import os\n",
    "import numpy as np\n",
    "import cv2 as cv2\n",
    "\n",
    "INPUT_PATH = \"data/glioma_tumor\"\n",
    "OUTPUT_PATH = \"data/upsample_test_output\""
   ]
  },
  {
   "cell_type": "code",
   "execution_count": 2,
   "metadata": {
    "tags": []
   },
   "outputs": [
    {
     "output_type": "error",
     "ename": "NameError",
     "evalue": "name 'cv2' is not defined",
     "traceback": [
      "\u001b[0;31m---------------------------------------------------------------------------\u001b[0m",
      "\u001b[0;31mNameError\u001b[0m                                 Traceback (most recent call last)",
      "\u001b[0;32m<ipython-input-2-15bd34b18f2e>\u001b[0m in \u001b[0;36m<module>\u001b[0;34m\u001b[0m\n\u001b[1;32m     15\u001b[0m     \u001b[0mnew_img_path_flip\u001b[0m \u001b[0;34m=\u001b[0m \u001b[0morig_img_path\u001b[0m\u001b[0;34m.\u001b[0m\u001b[0mreplace\u001b[0m\u001b[0;34m(\u001b[0m\u001b[0;34m\".\"\u001b[0m\u001b[0;34m,\u001b[0m\u001b[0;34m\"_f.\"\u001b[0m\u001b[0;34m)\u001b[0m\u001b[0;34m\u001b[0m\u001b[0;34m\u001b[0m\u001b[0m\n\u001b[1;32m     16\u001b[0m \u001b[0;34m\u001b[0m\u001b[0m\n\u001b[0;32m---> 17\u001b[0;31m     \u001b[0mcv2\u001b[0m\u001b[0;34m.\u001b[0m\u001b[0mimwrite\u001b[0m\u001b[0;34m(\u001b[0m\u001b[0mnew_img_path_flip\u001b[0m\u001b[0;34m,\u001b[0m \u001b[0mnew_img_flip\u001b[0m\u001b[0;34m)\u001b[0m\u001b[0;34m\u001b[0m\u001b[0;34m\u001b[0m\u001b[0m\n\u001b[0m\u001b[1;32m     18\u001b[0m     \u001b[0;31m# cv2.imwrite(new_img_path_resize, new_img_resize)\u001b[0m\u001b[0;34m\u001b[0m\u001b[0;34m\u001b[0m\u001b[0;34m\u001b[0m\u001b[0m\n\u001b[1;32m     19\u001b[0m     \u001b[0mcv2\u001b[0m\u001b[0;34m.\u001b[0m\u001b[0mimwrite\u001b[0m\u001b[0;34m(\u001b[0m\u001b[0morig_img_path\u001b[0m\u001b[0;34m,\u001b[0m \u001b[0mimg\u001b[0m\u001b[0;34m)\u001b[0m\u001b[0;34m\u001b[0m\u001b[0;34m\u001b[0m\u001b[0m\n",
      "\u001b[0;31mNameError\u001b[0m: name 'cv2' is not defined"
     ]
    }
   ],
   "source": [
    "for name in os.listdir(INPUT_PATH):\n",
    "    img_path=f\"{INPUT_PATH}/{name}\"\n",
    "    img = cv.imread(img_path)\n",
    "\n",
    "    orig_img_path = f\"{OUTPUT_PATH}/{name}\"\n",
    "    \n",
    "    # scale = 0.60 # percent of original size\n",
    "    # width = int(img.shape[1] * scale)\n",
    "    # height = int(img.shape[0] * scale)\n",
    "    # dim = (width, height)\n",
    "    # new_img_path_resize = orig_img_path.replace(\".\",\"_s60.\")\n",
    "    # new_img_resize = cv2.resize(img, dim, interpolation = cv2.INTER_AREA)\n",
    "    \n",
    "    new_img_flip = cv.flip(img, 1)\n",
    "    new_img_path_flip = orig_img_path.replace(\".\",\"_f.\")\n",
    "\n",
    "    cv2.imwrite(new_img_path_flip, new_img_flip)\n",
    "    # cv2.imwrite(new_img_path_resize, new_img_resize)\n",
    "    cv2.imwrite(orig_img_path, img)\n"
   ]
  },
  {
   "cell_type": "code",
   "execution_count": null,
   "metadata": {},
   "outputs": [],
   "source": []
  }
 ]
}